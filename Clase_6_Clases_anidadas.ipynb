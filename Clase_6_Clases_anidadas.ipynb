{
  "nbformat": 4,
  "nbformat_minor": 0,
  "metadata": {
    "colab": {
      "provenance": [],
      "include_colab_link": true
    },
    "kernelspec": {
      "name": "python3",
      "display_name": "Python 3"
    },
    "language_info": {
      "name": "python"
    }
  },
  "cells": [
    {
      "cell_type": "markdown",
      "metadata": {
        "id": "view-in-github",
        "colab_type": "text"
      },
      "source": [
        "<a href=\"https://colab.research.google.com/github/taobeto/class-python/blob/main/Clase_6_Clases_anidadas.ipynb\" target=\"_parent\"><img src=\"https://colab.research.google.com/assets/colab-badge.svg\" alt=\"Open In Colab\"/></a>"
      ]
    },
    {
      "cell_type": "markdown",
      "source": [
        "# **Clases anidadas**\n",
        "\n",
        "En programación orientada a objetos, una **clase anidada** es una clase definida dentro de otra clase. También se les conoce como **clases internas**. Este enfoque se utiliza para **organizar** mejor el código, especialmente cuando una clase solo es relevante en el contexto de otra clase.\n",
        "\n",
        "La clase anidada se define dentro del cuerpo de otra clase. No hay restricciones en cuanto al número de niveles de anidación, pero es recomendable mantener la simplicidad para evitar complicaciones.\n",
        "\n",
        "-  `ClaseExterna` (Outer Class): Es la clase que contiene a la clase interna. Tiene sus propios atributos y métodos.\n",
        "\n",
        "-  `ClaseInterna` (Inner Class): Es la clase que se define dentro de `ClaseExterna`, tiene acceso a todos los miembros(atributos y métodos) de `ClaseExterna`, incluyendo miembros privados, como si fueran miembros de su propia clase.\n",
        "\n",
        "## **Ventajas**:\n",
        "\n",
        "-  **Encapsulación:** Permite agrupar y encapsular la funcionalidad relacionada en un solo lugar, lo que mejora la organización y la legibilidad del código.\n",
        "\n",
        "-  **Evitar conflictos de nombres:** Al limitar la visibilidad de las variables y funciones de la clase interna al contexto de la clase externa.\n",
        "\n",
        "## **Desventajas**:\n",
        "\n",
        "-  Mayor complejidad.\n",
        "-  Dificulatad en la lectura.\n",
        "-  Menor reutilización.\n",
        "\n",
        "\n",
        "## **Buenas Prácticas al Implementar Clases Anidadas**\n",
        "\n",
        "- **Mantener la Simplicidad**: Evita múltiples niveles de anidación. Generalmente, una sola capa es suficiente.\n",
        "- **Uso Apropiado**: Utiliza clases anidadas solo cuando la clase interna está fuertemente relacionada con la clase externa y no tiene sentido por sí sola.\n",
        "- **Nombre Descriptivo**: Nombra las clases internas de manera clara para reflejar su propósito dentro de la clase externa.\n",
        "- **Evitar Acceso Externo Innecesario**: Diseña la clase interna para que sea utilizada principalmente dentro de la clase externa, evitando su exposición externa a menos que sea necesario.\n",
        "\n",
        "## **Sintaxis**:\n",
        "\n",
        "\n",
        "\n",
        "```python\n",
        "class ClaseExterna:\n",
        "  pass\n",
        "\n",
        "  class ClaseInterna:\n",
        "    pass\n",
        "```\n",
        "\n"
      ],
      "metadata": {
        "id": "hBnFHvcS5QD4"
      }
    },
    {
      "cell_type": "code",
      "source": [
        "class ClaseExterna:\n",
        "  def __init__(self, a_ex):\n",
        "    self.a_ex = a_ex\n",
        "\n",
        "  def metodo_externo(self):\n",
        "    print('soy un metodo externo')\n",
        "\n",
        "  class ClaseInterna:\n",
        "    def __init__(self, a_int):\n",
        "      self.a_int = a_int\n",
        "\n",
        "    def metodo_interno(self):\n",
        "      print('soy un metodo interno')"
      ],
      "metadata": {
        "id": "tQejJsEdIAnc"
      },
      "execution_count": null,
      "outputs": []
    },
    {
      "cell_type": "code",
      "source": [
        "obj_ext = ClaseExterna('atributo externo') # Creando un objeto de la clase externa"
      ],
      "metadata": {
        "id": "SZnAfOcvIj1F"
      },
      "execution_count": null,
      "outputs": []
    },
    {
      "cell_type": "code",
      "source": [
        "obj_ext.a_ex #accedemos al atributo externo"
      ],
      "metadata": {
        "colab": {
          "base_uri": "https://localhost:8080/",
          "height": 35
        },
        "id": "zGxcVf4HIqAb",
        "outputId": "805def7a-82c7-4e58-8863-8e9a3b7f533b"
      },
      "execution_count": null,
      "outputs": [
        {
          "output_type": "execute_result",
          "data": {
            "text/plain": [
              "'atributo externo'"
            ],
            "application/vnd.google.colaboratory.intrinsic+json": {
              "type": "string"
            }
          },
          "metadata": {},
          "execution_count": 3
        }
      ]
    },
    {
      "cell_type": "code",
      "source": [
        "obj_ext.metodo_externo() #invocar al metodo externo"
      ],
      "metadata": {
        "colab": {
          "base_uri": "https://localhost:8080/"
        },
        "id": "Vs9YlM8MI6vT",
        "outputId": "9a500836-005a-4bf7-b7eb-d20158fd2001"
      },
      "execution_count": null,
      "outputs": [
        {
          "output_type": "stream",
          "name": "stdout",
          "text": [
            "soy un metodo externo\n"
          ]
        }
      ]
    },
    {
      "cell_type": "markdown",
      "source": [
        "Para crear un objeto de la clase interna  lo puedo hacer atraves de la clase externa o a traves de un objeto de la clase externa"
      ],
      "metadata": {
        "id": "L7evBGEIJCPb"
      }
    },
    {
      "cell_type": "code",
      "source": [
        "obj_interna1 = ClaseExterna.ClaseInterna('atributo interno') #creando un objeto dela clase interna a traves de la clase externa"
      ],
      "metadata": {
        "id": "9eQzrYehJBX0"
      },
      "execution_count": null,
      "outputs": []
    },
    {
      "cell_type": "code",
      "source": [
        "obj_interna1.a_int"
      ],
      "metadata": {
        "colab": {
          "base_uri": "https://localhost:8080/",
          "height": 35
        },
        "id": "M2C_Wuy7JWZL",
        "outputId": "7990570d-6a65-4fe5-b23f-8350a49d21b6"
      },
      "execution_count": null,
      "outputs": [
        {
          "output_type": "execute_result",
          "data": {
            "text/plain": [
              "'atributo interno'"
            ],
            "application/vnd.google.colaboratory.intrinsic+json": {
              "type": "string"
            }
          },
          "metadata": {},
          "execution_count": 7
        }
      ]
    },
    {
      "cell_type": "code",
      "source": [
        "obj_interna2 = obj_ext.ClaseInterna('atributo interno 2')# creando un objeto de la clase interna as traves de un objeto de la clase externa"
      ],
      "metadata": {
        "id": "M6zqEWrbJblc"
      },
      "execution_count": null,
      "outputs": []
    },
    {
      "cell_type": "code",
      "source": [
        "obj_interna2.a_int"
      ],
      "metadata": {
        "colab": {
          "base_uri": "https://localhost:8080/",
          "height": 35
        },
        "id": "2CSuwB2UJjTk",
        "outputId": "420976ff-fc9a-4b7b-ab01-3b20386f6aee"
      },
      "execution_count": null,
      "outputs": [
        {
          "output_type": "execute_result",
          "data": {
            "text/plain": [
              "'atributo interno 2'"
            ],
            "application/vnd.google.colaboratory.intrinsic+json": {
              "type": "string"
            }
          },
          "metadata": {},
          "execution_count": 10
        }
      ]
    },
    {
      "cell_type": "code",
      "source": [
        "obj_interna2.metodo_interno()"
      ],
      "metadata": {
        "colab": {
          "base_uri": "https://localhost:8080/"
        },
        "id": "VjuHsIMEJiws",
        "outputId": "59a8f10d-d166-4b7c-86ef-89c1067df850"
      },
      "execution_count": null,
      "outputs": [
        {
          "output_type": "stream",
          "name": "stdout",
          "text": [
            "soy un metodo interno\n"
          ]
        }
      ]
    },
    {
      "cell_type": "markdown",
      "source": [
        "# Ejemplo"
      ],
      "metadata": {
        "id": "q6AOSgmnYDaS"
      }
    },
    {
      "cell_type": "markdown",
      "source": [
        "Crear una clase `Biblioteca` que represente una institución con múltiples libros físicos y digitales. Dentro de esta clase, definir una clase interna `Libro` que represente a cada libro físico y una subclase `LibroDigital` que herede de `Libro` para manejar libros en formato digital. La implementación debe permitir agregar tanto libros físicos como digitales mediante un **único método** `agregar_libro`, listar todos los libros, calcular el número total de libros, y mantener un contador de libros utilizando un atributo de clase. Además, asegurar que ciertos atributos sean privados para proteger la integridad de los datos.\n",
        "\n",
        "### **Requerimientos:**\n",
        "\n",
        "#### **1. Clase Externa `Biblioteca`:**\n",
        "\n",
        "- **Atributos de Clase:**\n",
        "  - `total_libros` (int): Contador que almacena el número total de libros agregados a todas las instancias de `Biblioteca`.\n",
        "\n",
        "- **Atributos de Instancia:**\n",
        "  - `nombre` (str): Nombre de la biblioteca.\n",
        "  - `__libros` (list): Lista privada que almacena instancias de la clase interna `Libro` y sus subclases.\n",
        "\n",
        "- **Métodos:**\n",
        "  - `__init__(self, nombre)`: Constructor que inicializa el nombre de la biblioteca y la lista privada de libros.\n",
        "  - `agregar_libro(self, titulo, autor, isbn, formato=None, tamaño_mb=None)`: Método único para agregar un nuevo libro. Si se proporcionan los parámetros `formato` y `tamaño_mb`, se crea una instancia de `LibroDigital`; de lo contrario, se crea una instancia de `Libro`. Incrementa el contador de libros. Asegurar que el `tamaño_mb` para libros digitales sea un número positivo. Si no lo es, lanzar un mensaje de error.\n",
        "  - `listar_libros(self)`: Retorna una lista con la información de todos los libros, tanto físicos como digitales.\n",
        "  - `calcular_total_libros(self)`: Retorna el número total de libros en la biblioteca.\n",
        "  - `__str__(self)`: Retorna una representación en cadena de la biblioteca y sus libros.\n",
        "\n",
        "#### **2. Clase Interna `Libro`:**\n",
        "\n",
        "- **Atributos de Instancia:**\n",
        "  - `titulo` (str): Título del libro.\n",
        "  - `autor` (str): Autor del libro.\n",
        "  - `__isbn` (str): ISBN del libro (atributo privado).\n",
        "\n",
        "- **Métodos:**\n",
        "  - `__init__(self, titulo, autor, isbn)`: Constructor que inicializa los atributos del libro.\n",
        "  - `get_isbn(self)`: Getter para obtener el ISBN del libro.\n",
        "  - `__str__(self)`: Retorna una representación en cadena del libro físico.\n",
        "\n",
        "#### **3. Subclase Interna `LibroDigital`:**\n",
        "\n",
        "- **Atributos de Instancia:**\n",
        "  - `formato` (str): Formato del libro digital (e.g., PDF, EPUB).\n",
        "  - `tamaño_mb` (float): Tamaño del archivo en megabytes (MB).\n",
        "\n",
        "- **Métodos:**\n",
        "  - `__init__(self, titulo, autor, isbn, formato, tamaño_mb)`: Constructor que inicializa los atributos del libro digital, heredando de `Libro`.\n",
        "  - `__str__(self)`: Retorna una representación en cadena del libro digital, incluyendo el formato y tamaño."
      ],
      "metadata": {
        "id": "4W-QmfkAlxQa"
      }
    },
    {
      "cell_type": "code",
      "source": [
        "class Biblioteca:\n",
        "  total_libros = 0 #atributo de clase\n",
        "\n",
        "  def __init__(self, nombre):\n",
        "    self.nombre = nombre\n",
        "    self.__libros = []\n",
        "\n",
        "  def agregar_libro(self, titulo, autor, isbn, formato=None, tamaño_mb=None):\n",
        "    if formato and tamaño_mb:\n",
        "      if tamaño_mb > 0:\n",
        "        Biblioteca.total_libros += 1\n",
        "        return self.__libros.append(Biblioteca.LibroDigital(titulo, autor, isbn, formato, tamaño_mb))\n",
        "      else:\n",
        "        print('El tamaño debe ser un numero mayor que cero')\n",
        "    else:\n",
        "      Biblioteca.total_libros += 1\n",
        "      return self.__libros.append(Biblioteca.Libro(titulo, autor, isbn))\n",
        "\n",
        "  def listar_libros(self):\n",
        "    pass\n",
        "\n",
        "  def calcular_total_libros(self):\n",
        "    return len(self.__libros)\n",
        "\n",
        "  def __str__(self):\n",
        "    info = f'Biblioteca: {self.nombre} \\n Libros: \\n'\n",
        "    for libro in self.__libros:\n",
        "      info += f'- {str(libro)} \\n'\n",
        "    info += f'Total de libros: {self.calcular_total_libros()}'\n",
        "    return info\n",
        "\n",
        "\n",
        "  class Libro:\n",
        "    def __init__(self, titulo, autor, isbn):\n",
        "      self.titulo = titulo\n",
        "      self.autor = autor\n",
        "      self.__isbn = isbn\n",
        "\n",
        "    def get_isbn(self):\n",
        "      return self.__isbn\n",
        "\n",
        "    def __str__(self):\n",
        "      return f'Libro físico: Titulo: {self.titulo}, Autor: {self.autor}, isbn: {self.get_isbn()}'\n",
        "\n",
        "  class LibroDigital(Libro):\n",
        "    def __init__(self, titulo, autor, isbn, formato, tamaño):\n",
        "      super().__init__(titulo, autor, isbn)\n",
        "      self.formato = formato\n",
        "      self.tamaño = tamaño\n",
        "\n",
        "    def __str__(self):\n",
        "      return f'Libro Digital: Titulo: {self.titulo}, Autor: {self.autor}, isbn: {self.get_isbn()}, formato: {self.formato}, tamaño: {self.tamaño}'\n"
      ],
      "metadata": {
        "id": "qpSAsA6nkjPn"
      },
      "execution_count": null,
      "outputs": []
    },
    {
      "cell_type": "code",
      "source": [
        "biblioteca_1 = Biblioteca('Biblioteca Uno')"
      ],
      "metadata": {
        "id": "huj5DajaLgWt"
      },
      "execution_count": null,
      "outputs": []
    },
    {
      "cell_type": "code",
      "source": [
        "biblioteca_1.agregar_libro('Libro 1', 'autor del libro 1', '123456')\n",
        "biblioteca_1.agregar_libro('Libro 2', 'autor del libro 2', '5678910')\n",
        "biblioteca_1.agregar_libro('Libro 1 digital', 'autor del libro 1 digital', '874456', 'pdf', 25)\n",
        "biblioteca_1.agregar_libro('Libro 2 digital', 'autor del libro 2 digital', '8973674', 'pdf', 15)"
      ],
      "metadata": {
        "id": "TF2chWbUkjLz"
      },
      "execution_count": null,
      "outputs": []
    },
    {
      "cell_type": "code",
      "source": [
        "print(biblioteca_1)"
      ],
      "metadata": {
        "id": "e1CQh_VPkjH7",
        "colab": {
          "base_uri": "https://localhost:8080/"
        },
        "outputId": "63c9901f-82d1-43e0-afc1-bef8e793b5dc"
      },
      "execution_count": null,
      "outputs": [
        {
          "output_type": "stream",
          "name": "stdout",
          "text": [
            "Biblioteca: Biblioteca Uno \n",
            " Libros: \n",
            "- Libro físico: Titulo: Libro 1, Autor: autor del libro 1, isbn: 123456 \n",
            "- Libro físico: Titulo: Libro 2, Autor: autor del libro 2, isbn: 5678910 \n",
            "- Libro Digital: Titulo: Libro 1 digital, Autor: autor del libro 1 digital, isbn: 874456, formato: pdf, tamaño: 25 \n",
            "- Libro Digital: Titulo: Libro 2 digital, Autor: autor del libro 2 digital, isbn: 8973674, formato: pdf, tamaño: 15 \n",
            "Total de libros: 4\n"
          ]
        }
      ]
    },
    {
      "cell_type": "code",
      "source": [],
      "metadata": {
        "id": "FRXO_EAWohiA"
      },
      "execution_count": null,
      "outputs": []
    },
    {
      "cell_type": "code",
      "source": [],
      "metadata": {
        "id": "yZA8a_WYohZA"
      },
      "execution_count": null,
      "outputs": []
    },
    {
      "cell_type": "markdown",
      "source": [
        "# **Tarea 6:**\n",
        "\n",
        "Crear una clase `Empresa` que represente una organización con múltiples empleados. Dentro de esta clase, definir una clase interna `Empleado` y otra `EmpleadoRemoto` que represente a cada empleado individualmente. La implementación debe permitir agregar empleados, listar empleados, calcular el salario total de la empresa, y mantener un contador de empleados utilizando un atributo de clase. Además, asegurar que ciertos atributos sean privados para proteger la integridad de los datos.\n",
        "\n",
        "### **Requerimientos:**\n",
        "\n",
        "#### **1. Clase Externa `Empresa`:**\n",
        "\n",
        "- **Atributos de Clase:**\n",
        "  - `total_empleados` (int): Contador que almacena el número total de empleados contratados por todas las instancias de `Empresa`. Se incrementa cada vez que se contrata un nuevo empleado.\n",
        "\n",
        "- **Atributos de Instancia:**\n",
        "  - `nombre` (str): Nombre de la empresa.\n",
        "  - `__empleados` (list): Lista privada que almacena instancias de la clase interna `Empleado`.\n",
        "\n",
        "- **Métodos:**\n",
        "  - `__init__(self, nombre)`: Constructor que inicializa el nombre de la empresa y la lista privada de empleados.\n",
        "  - `contratar_empleado(self, nombre, salario, pais = None)`: Método para contratar un nuevo empleado, creando una instancia de `Empleado` (si pais es diferente de `None` crea una instancia de `EmpleadoRemoto`) y agregándola a la lista privada. Incrementa el contador de empleados.\n",
        "  - `listar_empleados(self)`: Retorna una lista con la información de todos los empleados.\n",
        "  - `calcular_salario_total(self)`: Calcula y retorna la suma de los salarios de todos los empleados.\n",
        "  - `__str__(self)`: Retorna una representación en cadena de la empresa y sus empleados.\n",
        "\n",
        "#### **2. Clase Interna `Empleado`:**\n",
        "\n",
        "- **Atributos de Instancia:**\n",
        "  - `nombre` (str): Nombre del empleado.\n",
        "  - `__salario` (float): Salario privado del empleado.\n",
        "\n",
        "- **Métodos:**\n",
        "  - `__init__(self, nombre, salario)`: Constructor que inicializa los atributos del empleado.\n",
        "  - `get_salario(self)`: Getter para obtener el salario del empleado.\n",
        "  - `set_salario(self, nuevo_salario)`: Setter para actualizar el salario del empleado, asegurando que el nuevo salario sea un número positivo. Si no lo es, lanza un mensaje de error.\n",
        "  - `__str__(self)`: Retorna una representación en cadena del empleado.\n",
        "\n",
        "\n",
        "\n",
        "#### **4. Herencia :**\n",
        "  - Crear una subclase de `Empleado` llamada `EmpleadoRemoto` (también interna de `Empresa`) que incluya un atributo adicional `pais` (str) para representar empleados que trabajan de forma remota. Esta subclase debe sobrescribir el método `__str__` para incluir la información del país.\n",
        "\n",
        "  \n",
        "###  **Comportamiento esperado:**\n",
        "\n",
        "```python\n",
        "# Crear una instancia de Empresa\n",
        "empresa = Empresa(\"Global Tech\")\n",
        "\n",
        "# Contratar empleados tradicionales\n",
        "empresa.contratar_empleado(\"Carlos Ruiz\", 3200)\n",
        "empresa.contratar_empleado(\"Lucía Fernández\", 4500)\n",
        "\n",
        "# Contratar empleados remotos\n",
        "empresa.contratar_empleado(\"Pedro Martínez\", 3800, pais=\"España\")\n",
        "empresa.contratar_empleado(\"Sofía González\", 4000, pais=\"México\")\n",
        "\n",
        "# Listar empleados\n",
        "print(\"Lista de Empleados:\")\n",
        "for empleado in empresa.listar_empleados():\n",
        "    print(empleado)\n",
        "# Output:\n",
        "# Lista de Empleados:\n",
        "# Empleado: Carlos Ruiz, Salario: $3200\n",
        "# Empleado: Lucía Fernández, Salario: $4500\n",
        "# Empleado Remoto: Pedro Martínez, Salario: $3800, País: España\n",
        "# Empleado Remoto: Sofía González, Salario: $4000, País: México\n",
        "\n",
        "# Calcular salario total\n",
        "total = empresa.calcular_salario_total()\n",
        "print(f\"\\nSalario Total de la Empresa: ${total}\")\n",
        "# Output:\n",
        "# Salario Total de la Empresa: $15500\n",
        "\n",
        "# Representación completa de la empresa\n",
        "print(\"\\nInformación Completa de la Empresa:\")\n",
        "print(empresa)\n",
        "# Output:\n",
        "# Información Completa de la Empresa:\n",
        "# Empresa: Global Tech\n",
        "# Empleados:\n",
        "#  - Empleado: Carlos Ruiz, Salario: $3200\n",
        "#  - Empleado: Lucía Fernández, Salario: $4500\n",
        "#  - Empleado Remoto: Pedro Martínez, Salario: $3800, País: España\n",
        "#  - Empleado Remoto: Sofía González, Salario: $4000, País: México\n",
        "# Salario Total: $15500\n"
      ],
      "metadata": {
        "id": "cYGRpNoJfYsH"
      }
    }
  ]
}